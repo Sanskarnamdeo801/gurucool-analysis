{
 "cells": [
  {
   "cell_type": "markdown",
   "id": "d09a9c80-7c8e-4f35-b583-33c2c110cb1f",
   "metadata": {},
   "source": [
    "# 1\n",
    "Load the dataset into your preferred data analysis tool (e.g., Python, R, Excel)."
   ]
  },
  {
   "cell_type": "code",
   "execution_count": 58,
   "id": "ad64d878-d361-405d-9918-38b711dbb673",
   "metadata": {},
   "outputs": [],
   "source": [
    "import pandas as pd\n",
    "import numpy as np\n",
    "import seaborn as sns \n",
    "import matplotlib.pyplot as plt"
   ]
  },
  {
   "cell_type": "code",
   "execution_count": 59,
   "id": "e8ebb0ce-cbb3-438a-97b9-dbf4d9566565",
   "metadata": {},
   "outputs": [
    {
     "name": "stderr",
     "output_type": "stream",
     "text": [
      "/var/folders/sb/hxcxtgd548zcncz9qb48ngw80000gn/T/ipykernel_22387/1785100654.py:1: DtypeWarning: Columns (36,43,44) have mixed types. Specify dtype option on import or set low_memory=False.\n",
      "  Df=pd.read_csv(\"1Dec to 3Jan Consultations.csv\")\n"
     ]
    }
   ],
   "source": [
    "Df=pd.read_csv(\"1Dec to 3Jan Consultations.csv\")"
   ]
  },
  {
   "cell_type": "code",
   "execution_count": 60,
   "id": "0c7f7c40-e633-4729-9797-427660eed13b",
   "metadata": {},
   "outputs": [
    {
     "data": {
      "text/html": [
       "<div>\n",
       "<style scoped>\n",
       "    .dataframe tbody tr th:only-of-type {\n",
       "        vertical-align: middle;\n",
       "    }\n",
       "\n",
       "    .dataframe tbody tr th {\n",
       "        vertical-align: top;\n",
       "    }\n",
       "\n",
       "    .dataframe thead th {\n",
       "        text-align: right;\n",
       "    }\n",
       "</style>\n",
       "<table border=\"1\" class=\"dataframe\">\n",
       "  <thead>\n",
       "    <tr style=\"text-align: right;\">\n",
       "      <th></th>\n",
       "      <th>_id</th>\n",
       "      <th>user</th>\n",
       "      <th>chatStatus</th>\n",
       "      <th>guru</th>\n",
       "      <th>guruName</th>\n",
       "      <th>gid</th>\n",
       "      <th>uid</th>\n",
       "      <th>consultationType</th>\n",
       "      <th>website</th>\n",
       "      <th>refundStatus</th>\n",
       "      <th>...</th>\n",
       "      <th>feedback</th>\n",
       "      <th>hideHistory</th>\n",
       "      <th>cardPosition</th>\n",
       "      <th>Remedies</th>\n",
       "      <th>offer</th>\n",
       "      <th>refunds[0]</th>\n",
       "      <th>source</th>\n",
       "      <th>callSeconds</th>\n",
       "      <th>complementaryCallOrganiser</th>\n",
       "      <th>disconnectedBy</th>\n",
       "    </tr>\n",
       "  </thead>\n",
       "  <tbody>\n",
       "    <tr>\n",
       "      <th>0</th>\n",
       "      <td>656922f2919324acb6e87139</td>\n",
       "      <td>65691b0c919324acb6e7e046</td>\n",
       "      <td>incomplete</td>\n",
       "      <td>65054786f5f203225bfcdd0d</td>\n",
       "      <td>Astro  Sanjeev</td>\n",
       "      <td>95</td>\n",
       "      <td>30129</td>\n",
       "      <td>Chat</td>\n",
       "      <td>gurucool</td>\n",
       "      <td>no-refund</td>\n",
       "      <td>...</td>\n",
       "      <td>NaN</td>\n",
       "      <td>NaN</td>\n",
       "      <td>NaN</td>\n",
       "      <td>NaN</td>\n",
       "      <td>NaN</td>\n",
       "      <td>NaN</td>\n",
       "      <td>NaN</td>\n",
       "      <td>NaN</td>\n",
       "      <td>NaN</td>\n",
       "      <td>NaN</td>\n",
       "    </tr>\n",
       "    <tr>\n",
       "      <th>1</th>\n",
       "      <td>65692413919324acb6e87441</td>\n",
       "      <td>65691b0c919324acb6e7e046</td>\n",
       "      <td>incomplete</td>\n",
       "      <td>65054786f5f203225bfcdd0d</td>\n",
       "      <td>Astro  Sanjeev</td>\n",
       "      <td>95</td>\n",
       "      <td>30129</td>\n",
       "      <td>Chat</td>\n",
       "      <td>gurucool</td>\n",
       "      <td>no-refund</td>\n",
       "      <td>...</td>\n",
       "      <td>NaN</td>\n",
       "      <td>NaN</td>\n",
       "      <td>NaN</td>\n",
       "      <td>NaN</td>\n",
       "      <td>NaN</td>\n",
       "      <td>NaN</td>\n",
       "      <td>NaN</td>\n",
       "      <td>NaN</td>\n",
       "      <td>NaN</td>\n",
       "      <td>NaN</td>\n",
       "    </tr>\n",
       "    <tr>\n",
       "      <th>2</th>\n",
       "      <td>65692612919324acb6e87738</td>\n",
       "      <td>656528dcee2b1ab52f019119</td>\n",
       "      <td>incomplete</td>\n",
       "      <td>65054786f5f203225bfcdd0d</td>\n",
       "      <td>Astro  Sanjeev</td>\n",
       "      <td>95</td>\n",
       "      <td>28743</td>\n",
       "      <td>Chat</td>\n",
       "      <td>gurucool</td>\n",
       "      <td>no-refund</td>\n",
       "      <td>...</td>\n",
       "      <td>NaN</td>\n",
       "      <td>NaN</td>\n",
       "      <td>NaN</td>\n",
       "      <td>NaN</td>\n",
       "      <td>NaN</td>\n",
       "      <td>NaN</td>\n",
       "      <td>NaN</td>\n",
       "      <td>NaN</td>\n",
       "      <td>NaN</td>\n",
       "      <td>NaN</td>\n",
       "    </tr>\n",
       "    <tr>\n",
       "      <th>3</th>\n",
       "      <td>656927c9919324acb6e87b2f</td>\n",
       "      <td>6568ee9f919324acb6e77e53</td>\n",
       "      <td>incomplete</td>\n",
       "      <td>65054786f5f203225bfcdd0d</td>\n",
       "      <td>Astro  Sanjeev</td>\n",
       "      <td>95</td>\n",
       "      <td>30120</td>\n",
       "      <td>Chat</td>\n",
       "      <td>gurucool</td>\n",
       "      <td>no-refund</td>\n",
       "      <td>...</td>\n",
       "      <td>NaN</td>\n",
       "      <td>NaN</td>\n",
       "      <td>NaN</td>\n",
       "      <td>NaN</td>\n",
       "      <td>NaN</td>\n",
       "      <td>NaN</td>\n",
       "      <td>NaN</td>\n",
       "      <td>NaN</td>\n",
       "      <td>NaN</td>\n",
       "      <td>NaN</td>\n",
       "    </tr>\n",
       "    <tr>\n",
       "      <th>4</th>\n",
       "      <td>65692d75919324acb6e882dd</td>\n",
       "      <td>65629cfc4232eb704d712d98</td>\n",
       "      <td>failed</td>\n",
       "      <td>65054786f5f203225bfcdd0d</td>\n",
       "      <td>Astro  Sanjeev</td>\n",
       "      <td>95</td>\n",
       "      <td>27790</td>\n",
       "      <td>Chat</td>\n",
       "      <td>gurucool</td>\n",
       "      <td>no-refund</td>\n",
       "      <td>...</td>\n",
       "      <td>NaN</td>\n",
       "      <td>NaN</td>\n",
       "      <td>NaN</td>\n",
       "      <td>NaN</td>\n",
       "      <td>NaN</td>\n",
       "      <td>NaN</td>\n",
       "      <td>NaN</td>\n",
       "      <td>NaN</td>\n",
       "      <td>NaN</td>\n",
       "      <td>NaN</td>\n",
       "    </tr>\n",
       "    <tr>\n",
       "      <th>...</th>\n",
       "      <td>...</td>\n",
       "      <td>...</td>\n",
       "      <td>...</td>\n",
       "      <td>...</td>\n",
       "      <td>...</td>\n",
       "      <td>...</td>\n",
       "      <td>...</td>\n",
       "      <td>...</td>\n",
       "      <td>...</td>\n",
       "      <td>...</td>\n",
       "      <td>...</td>\n",
       "      <td>...</td>\n",
       "      <td>...</td>\n",
       "      <td>...</td>\n",
       "      <td>...</td>\n",
       "      <td>...</td>\n",
       "      <td>...</td>\n",
       "      <td>...</td>\n",
       "      <td>...</td>\n",
       "      <td>...</td>\n",
       "      <td>...</td>\n",
       "    </tr>\n",
       "    <tr>\n",
       "      <th>28022</th>\n",
       "      <td>6595ef62849de2bb564ed9fb</td>\n",
       "      <td>6592ef86270572b0ca26a3e3</td>\n",
       "      <td>completed</td>\n",
       "      <td>6522d40f0562f2f5e506c1c4</td>\n",
       "      <td>Super  Guru Ji</td>\n",
       "      <td>227</td>\n",
       "      <td>43361</td>\n",
       "      <td>Chat</td>\n",
       "      <td>gurucool</td>\n",
       "      <td>no-refund</td>\n",
       "      <td>...</td>\n",
       "      <td>NaN</td>\n",
       "      <td>False</td>\n",
       "      <td>NaN</td>\n",
       "      <td>NaN</td>\n",
       "      <td>normal</td>\n",
       "      <td>NaN</td>\n",
       "      <td>Test</td>\n",
       "      <td>NaN</td>\n",
       "      <td>NaN</td>\n",
       "      <td>user</td>\n",
       "    </tr>\n",
       "    <tr>\n",
       "      <th>28023</th>\n",
       "      <td>6595f1f3849de2bb564edd7e</td>\n",
       "      <td>6592ef86270572b0ca26a3e3</td>\n",
       "      <td>NaN</td>\n",
       "      <td>65054784f5f203225bfcdcd1</td>\n",
       "      <td>Tarot  Rupanshi</td>\n",
       "      <td>74</td>\n",
       "      <td>43361</td>\n",
       "      <td>Call</td>\n",
       "      <td>app</td>\n",
       "      <td>no-refund</td>\n",
       "      <td>...</td>\n",
       "      <td>NaN</td>\n",
       "      <td>False</td>\n",
       "      <td>NaN</td>\n",
       "      <td>NaN</td>\n",
       "      <td>normal</td>\n",
       "      <td>NaN</td>\n",
       "      <td>Test</td>\n",
       "      <td>NaN</td>\n",
       "      <td>NaN</td>\n",
       "      <td>NaN</td>\n",
       "    </tr>\n",
       "    <tr>\n",
       "      <th>28024</th>\n",
       "      <td>6595f23d849de2bb564ee1c9</td>\n",
       "      <td>6592ef86270572b0ca26a3e3</td>\n",
       "      <td>NaN</td>\n",
       "      <td>65054786f5f203225bfcdd0d</td>\n",
       "      <td>Astro  Sanjeev</td>\n",
       "      <td>95</td>\n",
       "      <td>43361</td>\n",
       "      <td>Call</td>\n",
       "      <td>app</td>\n",
       "      <td>no-refund</td>\n",
       "      <td>...</td>\n",
       "      <td>NaN</td>\n",
       "      <td>False</td>\n",
       "      <td>NaN</td>\n",
       "      <td>NaN</td>\n",
       "      <td>normal</td>\n",
       "      <td>NaN</td>\n",
       "      <td>Test</td>\n",
       "      <td>NaN</td>\n",
       "      <td>NaN</td>\n",
       "      <td>NaN</td>\n",
       "    </tr>\n",
       "    <tr>\n",
       "      <th>28025</th>\n",
       "      <td>6595f384883c1bbae79c58e3</td>\n",
       "      <td>6595f36c883c1bbae79c57c9</td>\n",
       "      <td>failed</td>\n",
       "      <td>6522d40f0562f2f5e506c1c4</td>\n",
       "      <td>Super  Guru Ji</td>\n",
       "      <td>227</td>\n",
       "      <td>44005</td>\n",
       "      <td>Chat</td>\n",
       "      <td>gurucool</td>\n",
       "      <td>no-refund</td>\n",
       "      <td>...</td>\n",
       "      <td>NaN</td>\n",
       "      <td>False</td>\n",
       "      <td>NaN</td>\n",
       "      <td>NaN</td>\n",
       "      <td>first</td>\n",
       "      <td>NaN</td>\n",
       "      <td>Production</td>\n",
       "      <td>NaN</td>\n",
       "      <td>NaN</td>\n",
       "      <td>NaN</td>\n",
       "    </tr>\n",
       "    <tr>\n",
       "      <th>28026</th>\n",
       "      <td>6595f407883c1bbae79c6e11</td>\n",
       "      <td>6595f36c883c1bbae79c57c9</td>\n",
       "      <td>incomplete</td>\n",
       "      <td>6522d40f0562f2f5e506c1c4</td>\n",
       "      <td>Super  Guru Ji</td>\n",
       "      <td>227</td>\n",
       "      <td>44005</td>\n",
       "      <td>Chat</td>\n",
       "      <td>gurucool</td>\n",
       "      <td>no-refund</td>\n",
       "      <td>...</td>\n",
       "      <td>NaN</td>\n",
       "      <td>False</td>\n",
       "      <td>NaN</td>\n",
       "      <td>NaN</td>\n",
       "      <td>first</td>\n",
       "      <td>NaN</td>\n",
       "      <td>Production</td>\n",
       "      <td>NaN</td>\n",
       "      <td>NaN</td>\n",
       "      <td>NaN</td>\n",
       "    </tr>\n",
       "  </tbody>\n",
       "</table>\n",
       "<p>28027 rows × 45 columns</p>\n",
       "</div>"
      ],
      "text/plain": [
       "                            _id                      user  chatStatus  \\\n",
       "0      656922f2919324acb6e87139  65691b0c919324acb6e7e046  incomplete   \n",
       "1      65692413919324acb6e87441  65691b0c919324acb6e7e046  incomplete   \n",
       "2      65692612919324acb6e87738  656528dcee2b1ab52f019119  incomplete   \n",
       "3      656927c9919324acb6e87b2f  6568ee9f919324acb6e77e53  incomplete   \n",
       "4      65692d75919324acb6e882dd  65629cfc4232eb704d712d98      failed   \n",
       "...                         ...                       ...         ...   \n",
       "28022  6595ef62849de2bb564ed9fb  6592ef86270572b0ca26a3e3   completed   \n",
       "28023  6595f1f3849de2bb564edd7e  6592ef86270572b0ca26a3e3         NaN   \n",
       "28024  6595f23d849de2bb564ee1c9  6592ef86270572b0ca26a3e3         NaN   \n",
       "28025  6595f384883c1bbae79c58e3  6595f36c883c1bbae79c57c9      failed   \n",
       "28026  6595f407883c1bbae79c6e11  6595f36c883c1bbae79c57c9  incomplete   \n",
       "\n",
       "                           guru          guruName  gid    uid  \\\n",
       "0      65054786f5f203225bfcdd0d    Astro  Sanjeev   95  30129   \n",
       "1      65054786f5f203225bfcdd0d    Astro  Sanjeev   95  30129   \n",
       "2      65054786f5f203225bfcdd0d    Astro  Sanjeev   95  28743   \n",
       "3      65054786f5f203225bfcdd0d    Astro  Sanjeev   95  30120   \n",
       "4      65054786f5f203225bfcdd0d    Astro  Sanjeev   95  27790   \n",
       "...                         ...               ...  ...    ...   \n",
       "28022  6522d40f0562f2f5e506c1c4    Super  Guru Ji  227  43361   \n",
       "28023  65054784f5f203225bfcdcd1  Tarot  Rupanshi    74  43361   \n",
       "28024  65054786f5f203225bfcdd0d    Astro  Sanjeev   95  43361   \n",
       "28025  6522d40f0562f2f5e506c1c4    Super  Guru Ji  227  44005   \n",
       "28026  6522d40f0562f2f5e506c1c4    Super  Guru Ji  227  44005   \n",
       "\n",
       "      consultationType   website refundStatus  ...  feedback  hideHistory  \\\n",
       "0                 Chat  gurucool    no-refund  ...       NaN          NaN   \n",
       "1                 Chat  gurucool    no-refund  ...       NaN          NaN   \n",
       "2                 Chat  gurucool    no-refund  ...       NaN          NaN   \n",
       "3                 Chat  gurucool    no-refund  ...       NaN          NaN   \n",
       "4                 Chat  gurucool    no-refund  ...       NaN          NaN   \n",
       "...                ...       ...          ...  ...       ...          ...   \n",
       "28022             Chat  gurucool    no-refund  ...       NaN        False   \n",
       "28023             Call       app    no-refund  ...       NaN        False   \n",
       "28024             Call       app    no-refund  ...       NaN        False   \n",
       "28025             Chat  gurucool    no-refund  ...       NaN        False   \n",
       "28026             Chat  gurucool    no-refund  ...       NaN        False   \n",
       "\n",
       "       cardPosition  Remedies   offer refunds[0]      source  callSeconds  \\\n",
       "0               NaN       NaN     NaN        NaN         NaN          NaN   \n",
       "1               NaN       NaN     NaN        NaN         NaN          NaN   \n",
       "2               NaN       NaN     NaN        NaN         NaN          NaN   \n",
       "3               NaN       NaN     NaN        NaN         NaN          NaN   \n",
       "4               NaN       NaN     NaN        NaN         NaN          NaN   \n",
       "...             ...       ...     ...        ...         ...          ...   \n",
       "28022           NaN       NaN  normal        NaN        Test          NaN   \n",
       "28023           NaN       NaN  normal        NaN        Test          NaN   \n",
       "28024           NaN       NaN  normal        NaN        Test          NaN   \n",
       "28025           NaN       NaN   first        NaN  Production          NaN   \n",
       "28026           NaN       NaN   first        NaN  Production          NaN   \n",
       "\n",
       "      complementaryCallOrganiser disconnectedBy  \n",
       "0                            NaN            NaN  \n",
       "1                            NaN            NaN  \n",
       "2                            NaN            NaN  \n",
       "3                            NaN            NaN  \n",
       "4                            NaN            NaN  \n",
       "...                          ...            ...  \n",
       "28022                        NaN           user  \n",
       "28023                        NaN            NaN  \n",
       "28024                        NaN            NaN  \n",
       "28025                        NaN            NaN  \n",
       "28026                        NaN            NaN  \n",
       "\n",
       "[28027 rows x 45 columns]"
      ]
     },
     "execution_count": 60,
     "metadata": {},
     "output_type": "execute_result"
    }
   ],
   "source": [
    "Df"
   ]
  },
  {
   "cell_type": "markdown",
   "id": "d1724287-0ddf-4d42-8bde-5f1da942225b",
   "metadata": {},
   "source": [
    "# 2\n",
    "Check for missing values in the dataset and handle them appropriately."
   ]
  },
  {
   "cell_type": "markdown",
   "id": "46842b50-ac28-46b9-90ea-a749e4c4b889",
   "metadata": {},
   "source": [
    "Filling null values with appropriate values."
   ]
  },
  {
   "cell_type": "code",
   "execution_count": 63,
   "id": "2d682aec-d8c1-4a9e-a66d-cf0c73546e9e",
   "metadata": {},
   "outputs": [],
   "source": [
    "df['chatStatus'].fillna(('Call'),inplace=True)"
   ]
  },
  {
   "cell_type": "code",
   "execution_count": 64,
   "id": "1fb9849e-9dfc-4869-9dc5-c9f7fcce7910",
   "metadata": {},
   "outputs": [
    {
     "name": "stderr",
     "output_type": "stream",
     "text": [
      "/var/folders/sb/hxcxtgd548zcncz9qb48ngw80000gn/T/ipykernel_22387/4112441761.py:1: FutureWarning: A value is trying to be set on a copy of a DataFrame or Series through chained assignment using an inplace method.\n",
      "The behavior will change in pandas 3.0. This inplace method will never work because the intermediate object on which we are setting values always behaves as a copy.\n",
      "\n",
      "For example, when doing 'df[col].method(value, inplace=True)', try using 'df.method({col: value}, inplace=True)' or df[col] = df[col].method(value) instead, to perform the operation inplace on the original object.\n",
      "\n",
      "\n",
      "  df['chatSeconds'].fillna((0),inplace=True)\n"
     ]
    }
   ],
   "source": [
    "df['chatSeconds'].fillna((0),inplace=True)"
   ]
  },
  {
   "cell_type": "code",
   "execution_count": 65,
   "id": "42ece302-f35f-4ace-a6a7-f2567c53fc2f",
   "metadata": {},
   "outputs": [],
   "source": [
    "df['chatStartTime'].fillna(('onCall'),inplace=True)"
   ]
  },
  {
   "cell_type": "code",
   "execution_count": 66,
   "id": "944188d7-5737-4275-a9bd-2615fd57cf0b",
   "metadata": {},
   "outputs": [],
   "source": [
    "Df.drop(columns=['__v'],inplace=True)"
   ]
  },
  {
   "cell_type": "code",
   "execution_count": null,
   "id": "a785a688-ded5-43e9-b099-8b2185f46e35",
   "metadata": {},
   "outputs": [],
   "source": []
  },
  {
   "cell_type": "code",
   "execution_count": 67,
   "id": "9ff3d3aa-c093-4a7c-ac48-a325fb8ec3a5",
   "metadata": {},
   "outputs": [
    {
     "name": "stderr",
     "output_type": "stream",
     "text": [
      "/var/folders/sb/hxcxtgd548zcncz9qb48ngw80000gn/T/ipykernel_22387/3581429870.py:1: FutureWarning: A value is trying to be set on a copy of a DataFrame or Series through chained assignment using an inplace method.\n",
      "The behavior will change in pandas 3.0. This inplace method will never work because the intermediate object on which we are setting values always behaves as a copy.\n",
      "\n",
      "For example, when doing 'df[col].method(value, inplace=True)', try using 'df.method({col: value}, inplace=True)' or df[col] = df[col].method(value) instead, to perform the operation inplace on the original object.\n",
      "\n",
      "\n",
      "  Df['chatStartTime'].fillna(('onCall'),inplace=True)\n"
     ]
    }
   ],
   "source": [
    "Df['chatStartTime'].fillna(('onCall'),inplace=True)"
   ]
  },
  {
   "cell_type": "code",
   "execution_count": 68,
   "id": "feb74176-3224-46bb-9280-923064a3c7f5",
   "metadata": {},
   "outputs": [
    {
     "data": {
      "text/plain": [
       "_id                               0\n",
       "user                              0\n",
       "chatStatus                     8512\n",
       "guru                              0\n",
       "guruName                          0\n",
       "gid                               0\n",
       "uid                               0\n",
       "consultationType                  0\n",
       "website                           0\n",
       "refundStatus                      0\n",
       "isWhiteListUser                   0\n",
       "chatSeconds                    8513\n",
       "queue                             0\n",
       "freeCall                          0\n",
       "freeChat                          0\n",
       "createdAt                         0\n",
       "updatedAt                         0\n",
       "statementEntryId                151\n",
       "chatStartTime                     0\n",
       "chatEndTime                   14996\n",
       "timeDuration                   6629\n",
       "callChannel                   19519\n",
       "callIvrType                   19665\n",
       "callStatus                    19486\n",
       "CallSid                       19662\n",
       "amount                        19011\n",
       "astrologerCallStatus          11769\n",
       "astrologerOnCallDuration      19662\n",
       "astrologersEarnings           19011\n",
       "netAmount                     19011\n",
       "region                        19008\n",
       "userCallStatus                18682\n",
       "userOnCallDuration            19662\n",
       "RecordingUrl                  23702\n",
       "feedback                      25411\n",
       "hideHistory                    8689\n",
       "cardPosition                  27317\n",
       "Remedies                      27925\n",
       "offer                          9249\n",
       "refunds[0]                    28022\n",
       "source                        11736\n",
       "callSeconds                   28025\n",
       "complementaryCallOrganiser    28025\n",
       "disconnectedBy                28018\n",
       "dtype: int64"
      ]
     },
     "execution_count": 68,
     "metadata": {},
     "output_type": "execute_result"
    }
   ],
   "source": [
    "Df.isnull().sum()"
   ]
  },
  {
   "cell_type": "code",
   "execution_count": 69,
   "id": "da442b20-a120-4fc4-b553-e4b01fb1bf3b",
   "metadata": {},
   "outputs": [
    {
     "data": {
      "text/plain": [
       "array([nan, 'astro_system', 'user', 'user_system', 'astrologer'],\n",
       "      dtype=object)"
      ]
     },
     "execution_count": 69,
     "metadata": {},
     "output_type": "execute_result"
    }
   ],
   "source": [
    "\n",
    "Df['disconnectedBy'].unique()"
   ]
  },
  {
   "cell_type": "code",
   "execution_count": 70,
   "id": "2097dcfb-2f8c-4f0c-86cb-5cf8ede503e1",
   "metadata": {},
   "outputs": [
    {
     "name": "stderr",
     "output_type": "stream",
     "text": [
      "/var/folders/sb/hxcxtgd548zcncz9qb48ngw80000gn/T/ipykernel_22387/1527781153.py:1: FutureWarning: A value is trying to be set on a copy of a DataFrame or Series through chained assignment using an inplace method.\n",
      "The behavior will change in pandas 3.0. This inplace method will never work because the intermediate object on which we are setting values always behaves as a copy.\n",
      "\n",
      "For example, when doing 'df[col].method(value, inplace=True)', try using 'df.method({col: value}, inplace=True)' or df[col] = df[col].method(value) instead, to perform the operation inplace on the original object.\n",
      "\n",
      "\n",
      "  Df['chatEndTime'].fillna(('onCall'),inplace=True)\n"
     ]
    }
   ],
   "source": [
    "Df['chatEndTime'].fillna(('onCall'),inplace=True)"
   ]
  },
  {
   "cell_type": "code",
   "execution_count": 71,
   "id": "794cc0b3-69b9-41ef-9e97-5f89054a6ea8",
   "metadata": {},
   "outputs": [
    {
     "data": {
      "text/plain": [
       "count    21398.000000\n",
       "mean         1.977168\n",
       "std          3.340467\n",
       "min         -0.166667\n",
       "25%          0.000000\n",
       "50%          0.100000\n",
       "75%          4.356962\n",
       "max         67.000000\n",
       "Name: timeDuration, dtype: float64"
      ]
     },
     "execution_count": 71,
     "metadata": {},
     "output_type": "execute_result"
    }
   ],
   "source": [
    "Df['timeDuration'].describe()"
   ]
  },
  {
   "cell_type": "code",
   "execution_count": 72,
   "id": "63f36a75-d184-42ad-86f7-02b888745154",
   "metadata": {},
   "outputs": [
    {
     "data": {
      "text/plain": [
       "938"
      ]
     },
     "execution_count": 72,
     "metadata": {},
     "output_type": "execute_result"
    }
   ],
   "source": [
    "Df['netAmount'].nunique()"
   ]
  },
  {
   "cell_type": "code",
   "execution_count": 73,
   "id": "d02d96af-b96a-4fab-9f82-3a3175a514c7",
   "metadata": {},
   "outputs": [
    {
     "data": {
      "text/plain": [
       "1800.0"
      ]
     },
     "execution_count": 73,
     "metadata": {},
     "output_type": "execute_result"
    }
   ],
   "source": [
    "Df['netAmount'].max()"
   ]
  },
  {
   "cell_type": "code",
   "execution_count": 74,
   "id": "f31b98c3-e46a-42fe-a7d9-2714190af726",
   "metadata": {},
   "outputs": [
    {
     "data": {
      "text/plain": [
       "0.0"
      ]
     },
     "execution_count": 74,
     "metadata": {},
     "output_type": "execute_result"
    }
   ],
   "source": [
    "Df['netAmount'].min()"
   ]
  },
  {
   "cell_type": "code",
   "execution_count": 75,
   "id": "a8ceaad7-8b57-4dfd-bbed-6eb8bf90ac6a",
   "metadata": {},
   "outputs": [],
   "source": [
    "Df2=Df[Df['netAmount']<=500]"
   ]
  },
  {
   "cell_type": "code",
   "execution_count": 76,
   "id": "e3e9e7a2-613b-4222-a37d-315ca3b0c0cf",
   "metadata": {},
   "outputs": [
    {
     "data": {
      "text/plain": [
       "<Axes: xlabel='netAmount', ylabel='Count'>"
      ]
     },
     "execution_count": 76,
     "metadata": {},
     "output_type": "execute_result"
    },
    {
     "data": {
      "image/png": "[encoded data removed]",
      "text/plain": [
       "<Figure size 640x480 with 1 Axes>"
      ]
     },
     "metadata": {},
     "output_type": "display_data"
    }
   ],
   "source": [
    "import seaborn as sns\n",
    "sns.histplot(Df2['netAmount'])"
   ]
  },
  {
   "cell_type": "code",
   "execution_count": 77,
   "id": "8ca81141-8c4d-4fd2-b8fd-a127f7d72b59",
   "metadata": {},
   "outputs": [
    {
     "data": {
      "text/plain": [
       "213987.31533333333"
      ]
     },
     "execution_count": 77,
     "metadata": {},
     "output_type": "execute_result"
    }
   ],
   "source": [
    "Df['netAmount'].sum()"
   ]
  },
  {
   "cell_type": "code",
   "execution_count": 78,
   "id": "09e8aa62-97dd-4ab7-bdf4-7a435c919a6e",
   "metadata": {},
   "outputs": [
    {
     "data": {
      "text/plain": [
       "118.78481769276749"
      ]
     },
     "execution_count": 78,
     "metadata": {},
     "output_type": "execute_result"
    }
   ],
   "source": [
    "Df['userOnCallDuration'].mean()"
   ]
  },
  {
   "cell_type": "code",
   "execution_count": 79,
   "id": "d6e0bbe6-812f-468e-8510-02470b1b1624",
   "metadata": {},
   "outputs": [
    {
     "data": {
      "text/plain": [
       "128.79187089061566"
      ]
     },
     "execution_count": 79,
     "metadata": {},
     "output_type": "execute_result"
    }
   ],
   "source": [
    "Df['astrologerOnCallDuration'].mean()"
   ]
  },
  {
   "cell_type": "code",
   "execution_count": 80,
   "id": "5e4f34cc-9401-4dee-8eab-ffa96804cbdc",
   "metadata": {},
   "outputs": [
    {
     "name": "stderr",
     "output_type": "stream",
     "text": [
      "/var/folders/sb/hxcxtgd548zcncz9qb48ngw80000gn/T/ipykernel_22387/1583289609.py:1: FutureWarning: A value is trying to be set on a copy of a DataFrame or Series through chained assignment using an inplace method.\n",
      "The behavior will change in pandas 3.0. This inplace method will never work because the intermediate object on which we are setting values always behaves as a copy.\n",
      "\n",
      "For example, when doing 'df[col].method(value, inplace=True)', try using 'df.method({col: value}, inplace=True)' or df[col] = df[col].method(value) instead, to perform the operation inplace on the original object.\n",
      "\n",
      "\n",
      "  Df['feedback'].fillna(('No'),inplace=True)\n"
     ]
    }
   ],
   "source": [
    "Df['feedback'].fillna(('No'),inplace=True)"
   ]
  },
  {
   "cell_type": "code",
   "execution_count": 81,
   "id": "0aa698d5-b8d7-477a-9a5f-1ab2c7e8b50a",
   "metadata": {},
   "outputs": [
    {
     "data": {
      "text/html": [
       "<div>\n",
       "<style scoped>\n",
       "    .dataframe tbody tr th:only-of-type {\n",
       "        vertical-align: middle;\n",
       "    }\n",
       "\n",
       "    .dataframe tbody tr th {\n",
       "        vertical-align: top;\n",
       "    }\n",
       "\n",
       "    .dataframe thead th {\n",
       "        text-align: right;\n",
       "    }\n",
       "</style>\n",
       "<table border=\"1\" class=\"dataframe\">\n",
       "  <thead>\n",
       "    <tr style=\"text-align: right;\">\n",
       "      <th></th>\n",
       "      <th>_id</th>\n",
       "      <th>user</th>\n",
       "      <th>chatStatus</th>\n",
       "      <th>guru</th>\n",
       "      <th>guruName</th>\n",
       "      <th>gid</th>\n",
       "      <th>uid</th>\n",
       "      <th>consultationType</th>\n",
       "      <th>website</th>\n",
       "      <th>refundStatus</th>\n",
       "      <th>...</th>\n",
       "      <th>feedback</th>\n",
       "      <th>hideHistory</th>\n",
       "      <th>cardPosition</th>\n",
       "      <th>Remedies</th>\n",
       "      <th>offer</th>\n",
       "      <th>refunds[0]</th>\n",
       "      <th>source</th>\n",
       "      <th>callSeconds</th>\n",
       "      <th>complementaryCallOrganiser</th>\n",
       "      <th>disconnectedBy</th>\n",
       "    </tr>\n",
       "  </thead>\n",
       "  <tbody>\n",
       "    <tr>\n",
       "      <th>0</th>\n",
       "      <td>656922f2919324acb6e87139</td>\n",
       "      <td>65691b0c919324acb6e7e046</td>\n",
       "      <td>incomplete</td>\n",
       "      <td>65054786f5f203225bfcdd0d</td>\n",
       "      <td>Astro  Sanjeev</td>\n",
       "      <td>95</td>\n",
       "      <td>30129</td>\n",
       "      <td>Chat</td>\n",
       "      <td>gurucool</td>\n",
       "      <td>no-refund</td>\n",
       "      <td>...</td>\n",
       "      <td>No</td>\n",
       "      <td>NaN</td>\n",
       "      <td>NaN</td>\n",
       "      <td>NaN</td>\n",
       "      <td>NaN</td>\n",
       "      <td>NaN</td>\n",
       "      <td>NaN</td>\n",
       "      <td>NaN</td>\n",
       "      <td>NaN</td>\n",
       "      <td>NaN</td>\n",
       "    </tr>\n",
       "    <tr>\n",
       "      <th>1</th>\n",
       "      <td>65692413919324acb6e87441</td>\n",
       "      <td>65691b0c919324acb6e7e046</td>\n",
       "      <td>incomplete</td>\n",
       "      <td>65054786f5f203225bfcdd0d</td>\n",
       "      <td>Astro  Sanjeev</td>\n",
       "      <td>95</td>\n",
       "      <td>30129</td>\n",
       "      <td>Chat</td>\n",
       "      <td>gurucool</td>\n",
       "      <td>no-refund</td>\n",
       "      <td>...</td>\n",
       "      <td>No</td>\n",
       "      <td>NaN</td>\n",
       "      <td>NaN</td>\n",
       "      <td>NaN</td>\n",
       "      <td>NaN</td>\n",
       "      <td>NaN</td>\n",
       "      <td>NaN</td>\n",
       "      <td>NaN</td>\n",
       "      <td>NaN</td>\n",
       "      <td>NaN</td>\n",
       "    </tr>\n",
       "    <tr>\n",
       "      <th>2</th>\n",
       "      <td>65692612919324acb6e87738</td>\n",
       "      <td>656528dcee2b1ab52f019119</td>\n",
       "      <td>incomplete</td>\n",
       "      <td>65054786f5f203225bfcdd0d</td>\n",
       "      <td>Astro  Sanjeev</td>\n",
       "      <td>95</td>\n",
       "      <td>28743</td>\n",
       "      <td>Chat</td>\n",
       "      <td>gurucool</td>\n",
       "      <td>no-refund</td>\n",
       "      <td>...</td>\n",
       "      <td>No</td>\n",
       "      <td>NaN</td>\n",
       "      <td>NaN</td>\n",
       "      <td>NaN</td>\n",
       "      <td>NaN</td>\n",
       "      <td>NaN</td>\n",
       "      <td>NaN</td>\n",
       "      <td>NaN</td>\n",
       "      <td>NaN</td>\n",
       "      <td>NaN</td>\n",
       "    </tr>\n",
       "    <tr>\n",
       "      <th>3</th>\n",
       "      <td>656927c9919324acb6e87b2f</td>\n",
       "      <td>6568ee9f919324acb6e77e53</td>\n",
       "      <td>incomplete</td>\n",
       "      <td>65054786f5f203225bfcdd0d</td>\n",
       "      <td>Astro  Sanjeev</td>\n",
       "      <td>95</td>\n",
       "      <td>30120</td>\n",
       "      <td>Chat</td>\n",
       "      <td>gurucool</td>\n",
       "      <td>no-refund</td>\n",
       "      <td>...</td>\n",
       "      <td>No</td>\n",
       "      <td>NaN</td>\n",
       "      <td>NaN</td>\n",
       "      <td>NaN</td>\n",
       "      <td>NaN</td>\n",
       "      <td>NaN</td>\n",
       "      <td>NaN</td>\n",
       "      <td>NaN</td>\n",
       "      <td>NaN</td>\n",
       "      <td>NaN</td>\n",
       "    </tr>\n",
       "    <tr>\n",
       "      <th>4</th>\n",
       "      <td>65692d75919324acb6e882dd</td>\n",
       "      <td>65629cfc4232eb704d712d98</td>\n",
       "      <td>failed</td>\n",
       "      <td>65054786f5f203225bfcdd0d</td>\n",
       "      <td>Astro  Sanjeev</td>\n",
       "      <td>95</td>\n",
       "      <td>27790</td>\n",
       "      <td>Chat</td>\n",
       "      <td>gurucool</td>\n",
       "      <td>no-refund</td>\n",
       "      <td>...</td>\n",
       "      <td>No</td>\n",
       "      <td>NaN</td>\n",
       "      <td>NaN</td>\n",
       "      <td>NaN</td>\n",
       "      <td>NaN</td>\n",
       "      <td>NaN</td>\n",
       "      <td>NaN</td>\n",
       "      <td>NaN</td>\n",
       "      <td>NaN</td>\n",
       "      <td>NaN</td>\n",
       "    </tr>\n",
       "    <tr>\n",
       "      <th>...</th>\n",
       "      <td>...</td>\n",
       "      <td>...</td>\n",
       "      <td>...</td>\n",
       "      <td>...</td>\n",
       "      <td>...</td>\n",
       "      <td>...</td>\n",
       "      <td>...</td>\n",
       "      <td>...</td>\n",
       "      <td>...</td>\n",
       "      <td>...</td>\n",
       "      <td>...</td>\n",
       "      <td>...</td>\n",
       "      <td>...</td>\n",
       "      <td>...</td>\n",
       "      <td>...</td>\n",
       "      <td>...</td>\n",
       "      <td>...</td>\n",
       "      <td>...</td>\n",
       "      <td>...</td>\n",
       "      <td>...</td>\n",
       "      <td>...</td>\n",
       "    </tr>\n",
       "    <tr>\n",
       "      <th>28022</th>\n",
       "      <td>6595ef62849de2bb564ed9fb</td>\n",
       "      <td>6592ef86270572b0ca26a3e3</td>\n",
       "      <td>completed</td>\n",
       "      <td>6522d40f0562f2f5e506c1c4</td>\n",
       "      <td>Super  Guru Ji</td>\n",
       "      <td>227</td>\n",
       "      <td>43361</td>\n",
       "      <td>Chat</td>\n",
       "      <td>gurucool</td>\n",
       "      <td>no-refund</td>\n",
       "      <td>...</td>\n",
       "      <td>No</td>\n",
       "      <td>False</td>\n",
       "      <td>NaN</td>\n",
       "      <td>NaN</td>\n",
       "      <td>normal</td>\n",
       "      <td>NaN</td>\n",
       "      <td>Test</td>\n",
       "      <td>NaN</td>\n",
       "      <td>NaN</td>\n",
       "      <td>user</td>\n",
       "    </tr>\n",
       "    <tr>\n",
       "      <th>28023</th>\n",
       "      <td>6595f1f3849de2bb564edd7e</td>\n",
       "      <td>6592ef86270572b0ca26a3e3</td>\n",
       "      <td>NaN</td>\n",
       "      <td>65054784f5f203225bfcdcd1</td>\n",
       "      <td>Tarot  Rupanshi</td>\n",
       "      <td>74</td>\n",
       "      <td>43361</td>\n",
       "      <td>Call</td>\n",
       "      <td>app</td>\n",
       "      <td>no-refund</td>\n",
       "      <td>...</td>\n",
       "      <td>No</td>\n",
       "      <td>False</td>\n",
       "      <td>NaN</td>\n",
       "      <td>NaN</td>\n",
       "      <td>normal</td>\n",
       "      <td>NaN</td>\n",
       "      <td>Test</td>\n",
       "      <td>NaN</td>\n",
       "      <td>NaN</td>\n",
       "      <td>NaN</td>\n",
       "    </tr>\n",
       "    <tr>\n",
       "      <th>28024</th>\n",
       "      <td>6595f23d849de2bb564ee1c9</td>\n",
       "      <td>6592ef86270572b0ca26a3e3</td>\n",
       "      <td>NaN</td>\n",
       "      <td>65054786f5f203225bfcdd0d</td>\n",
       "      <td>Astro  Sanjeev</td>\n",
       "      <td>95</td>\n",
       "      <td>43361</td>\n",
       "      <td>Call</td>\n",
       "      <td>app</td>\n",
       "      <td>no-refund</td>\n",
       "      <td>...</td>\n",
       "      <td>No</td>\n",
       "      <td>False</td>\n",
       "      <td>NaN</td>\n",
       "      <td>NaN</td>\n",
       "      <td>normal</td>\n",
       "      <td>NaN</td>\n",
       "      <td>Test</td>\n",
       "      <td>NaN</td>\n",
       "      <td>NaN</td>\n",
       "      <td>NaN</td>\n",
       "    </tr>\n",
       "    <tr>\n",
       "      <th>28025</th>\n",
       "      <td>6595f384883c1bbae79c58e3</td>\n",
       "      <td>6595f36c883c1bbae79c57c9</td>\n",
       "      <td>failed</td>\n",
       "      <td>6522d40f0562f2f5e506c1c4</td>\n",
       "      <td>Super  Guru Ji</td>\n",
       "      <td>227</td>\n",
       "      <td>44005</td>\n",
       "      <td>Chat</td>\n",
       "      <td>gurucool</td>\n",
       "      <td>no-refund</td>\n",
       "      <td>...</td>\n",
       "      <td>No</td>\n",
       "      <td>False</td>\n",
       "      <td>NaN</td>\n",
       "      <td>NaN</td>\n",
       "      <td>first</td>\n",
       "      <td>NaN</td>\n",
       "      <td>Production</td>\n",
       "      <td>NaN</td>\n",
       "      <td>NaN</td>\n",
       "      <td>NaN</td>\n",
       "    </tr>\n",
       "    <tr>\n",
       "      <th>28026</th>\n",
       "      <td>6595f407883c1bbae79c6e11</td>\n",
       "      <td>6595f36c883c1bbae79c57c9</td>\n",
       "      <td>incomplete</td>\n",
       "      <td>6522d40f0562f2f5e506c1c4</td>\n",
       "      <td>Super  Guru Ji</td>\n",
       "      <td>227</td>\n",
       "      <td>44005</td>\n",
       "      <td>Chat</td>\n",
       "      <td>gurucool</td>\n",
       "      <td>no-refund</td>\n",
       "      <td>...</td>\n",
       "      <td>No</td>\n",
       "      <td>False</td>\n",
       "      <td>NaN</td>\n",
       "      <td>NaN</td>\n",
       "      <td>first</td>\n",
       "      <td>NaN</td>\n",
       "      <td>Production</td>\n",
       "      <td>NaN</td>\n",
       "      <td>NaN</td>\n",
       "      <td>NaN</td>\n",
       "    </tr>\n",
       "  </tbody>\n",
       "</table>\n",
       "<p>28027 rows × 44 columns</p>\n",
       "</div>"
      ],
      "text/plain": [
       "                            _id                      user  chatStatus  \\\n",
       "0      656922f2919324acb6e87139  65691b0c919324acb6e7e046  incomplete   \n",
       "1      65692413919324acb6e87441  65691b0c919324acb6e7e046  incomplete   \n",
       "2      65692612919324acb6e87738  656528dcee2b1ab52f019119  incomplete   \n",
       "3      656927c9919324acb6e87b2f  6568ee9f919324acb6e77e53  incomplete   \n",
       "4      65692d75919324acb6e882dd  65629cfc4232eb704d712d98      failed   \n",
       "...                         ...                       ...         ...   \n",
       "28022  6595ef62849de2bb564ed9fb  6592ef86270572b0ca26a3e3   completed   \n",
       "28023  6595f1f3849de2bb564edd7e  6592ef86270572b0ca26a3e3         NaN   \n",
       "28024  6595f23d849de2bb564ee1c9  6592ef86270572b0ca26a3e3         NaN   \n",
       "28025  6595f384883c1bbae79c58e3  6595f36c883c1bbae79c57c9      failed   \n",
       "28026  6595f407883c1bbae79c6e11  6595f36c883c1bbae79c57c9  incomplete   \n",
       "\n",
       "                           guru          guruName  gid    uid  \\\n",
       "0      65054786f5f203225bfcdd0d    Astro  Sanjeev   95  30129   \n",
       "1      65054786f5f203225bfcdd0d    Astro  Sanjeev   95  30129   \n",
       "2      65054786f5f203225bfcdd0d    Astro  Sanjeev   95  28743   \n",
       "3      65054786f5f203225bfcdd0d    Astro  Sanjeev   95  30120   \n",
       "4      65054786f5f203225bfcdd0d    Astro  Sanjeev   95  27790   \n",
       "...                         ...               ...  ...    ...   \n",
       "28022  6522d40f0562f2f5e506c1c4    Super  Guru Ji  227  43361   \n",
       "28023  65054784f5f203225bfcdcd1  Tarot  Rupanshi    74  43361   \n",
       "28024  65054786f5f203225bfcdd0d    Astro  Sanjeev   95  43361   \n",
       "28025  6522d40f0562f2f5e506c1c4    Super  Guru Ji  227  44005   \n",
       "28026  6522d40f0562f2f5e506c1c4    Super  Guru Ji  227  44005   \n",
       "\n",
       "      consultationType   website refundStatus  ...  feedback  hideHistory  \\\n",
       "0                 Chat  gurucool    no-refund  ...        No          NaN   \n",
       "1                 Chat  gurucool    no-refund  ...        No          NaN   \n",
       "2                 Chat  gurucool    no-refund  ...        No          NaN   \n",
       "3                 Chat  gurucool    no-refund  ...        No          NaN   \n",
       "4                 Chat  gurucool    no-refund  ...        No          NaN   \n",
       "...                ...       ...          ...  ...       ...          ...   \n",
       "28022             Chat  gurucool    no-refund  ...        No        False   \n",
       "28023             Call       app    no-refund  ...        No        False   \n",
       "28024             Call       app    no-refund  ...        No        False   \n",
       "28025             Chat  gurucool    no-refund  ...        No        False   \n",
       "28026             Chat  gurucool    no-refund  ...        No        False   \n",
       "\n",
       "       cardPosition  Remedies   offer refunds[0]      source callSeconds  \\\n",
       "0               NaN       NaN     NaN        NaN         NaN         NaN   \n",
       "1               NaN       NaN     NaN        NaN         NaN         NaN   \n",
       "2               NaN       NaN     NaN        NaN         NaN         NaN   \n",
       "3               NaN       NaN     NaN        NaN         NaN         NaN   \n",
       "4               NaN       NaN     NaN        NaN         NaN         NaN   \n",
       "...             ...       ...     ...        ...         ...         ...   \n",
       "28022           NaN       NaN  normal        NaN        Test         NaN   \n",
       "28023           NaN       NaN  normal        NaN        Test         NaN   \n",
       "28024           NaN       NaN  normal        NaN        Test         NaN   \n",
       "28025           NaN       NaN   first        NaN  Production         NaN   \n",
       "28026           NaN       NaN   first        NaN  Production         NaN   \n",
       "\n",
       "      complementaryCallOrganiser disconnectedBy  \n",
       "0                            NaN            NaN  \n",
       "1                            NaN            NaN  \n",
       "2                            NaN            NaN  \n",
       "3                            NaN            NaN  \n",
       "4                            NaN            NaN  \n",
       "...                          ...            ...  \n",
       "28022                        NaN           user  \n",
       "28023                        NaN            NaN  \n",
       "28024                        NaN            NaN  \n",
       "28025                        NaN            NaN  \n",
       "28026                        NaN            NaN  \n",
       "\n",
       "[28027 rows x 44 columns]"
      ]
     },
     "execution_count": 81,
     "metadata": {},
     "output_type": "execute_result"
    }
   ],
   "source": [
    "Df"
   ]
  },
  {
   "cell_type": "code",
   "execution_count": 82,
   "id": "953be5ef-08bd-4792-88cc-33a03598ade0",
   "metadata": {},
   "outputs": [],
   "source": [
    "Df1=Df[Df['consultationType']=='Call']"
   ]
  },
  {
   "cell_type": "code",
   "execution_count": 83,
   "id": "b67c6a60-9855-4336-995a-65d8db1457c2",
   "metadata": {},
   "outputs": [
    {
     "data": {
      "text/plain": [
       "website\n",
       "app         7797\n",
       "gurucool     711\n",
       "Name: count, dtype: int64"
      ]
     },
     "execution_count": 83,
     "metadata": {},
     "output_type": "execute_result"
    }
   ],
   "source": [
    "Df1['website'].value_counts()"
   ]
  },
  {
   "cell_type": "code",
   "execution_count": 84,
   "id": "3776302e-c2a3-4160-b53e-d3ff4aeab585",
   "metadata": {},
   "outputs": [
    {
     "data": {
      "text/plain": [
       "213987.31533333333"
      ]
     },
     "execution_count": 84,
     "metadata": {},
     "output_type": "execute_result"
    }
   ],
   "source": [
    "Df['netAmount'].sum()"
   ]
  },
  {
   "cell_type": "code",
   "execution_count": 85,
   "id": "2b53de3b-7404-466e-8652-67b807474109",
   "metadata": {},
   "outputs": [
    {
     "data": {
      "text/plain": [
       "99146.57095000001"
      ]
     },
     "execution_count": 85,
     "metadata": {},
     "output_type": "execute_result"
    }
   ],
   "source": [
    "Df['astrologersEarnings'].sum()"
   ]
  },
  {
   "cell_type": "code",
   "execution_count": 86,
   "id": "94bf1380-1427-4094-8c23-858e4e9a598c",
   "metadata": {},
   "outputs": [
    {
     "data": {
      "text/plain": [
       "<Axes: xlabel='timeDuration'>"
      ]
     },
     "execution_count": 86,
     "metadata": {},
     "output_type": "execute_result"
    },
    {
     "data": {
      "image/png": "[encoded data removed]",
      "text/plain": [
       "<Figure size 640x480 with 1 Axes>"
      ]
     },
     "metadata": {},
     "output_type": "display_data"
    }
   ],
   "source": [
    "Df.plot(x='timeDuration',y='netAmount')"
   ]
  },
  {
   "cell_type": "code",
   "execution_count": 87,
   "id": "87c70462-70c7-44ae-b677-be21960f6e7b",
   "metadata": {},
   "outputs": [
    {
     "data": {
      "text/plain": [
       "<Axes: xlabel='timeDuration', ylabel='netAmount'>"
      ]
     },
     "execution_count": 87,
     "metadata": {},
     "output_type": "execute_result"
    },
    {
     "data": {
      "image/png": "[encoded data removed]",
      "text/plain": [
       "<Figure size 640x480 with 1 Axes>"
      ]
     },
     "metadata": {},
     "output_type": "display_data"
    }
   ],
   "source": [
    "sns.scatterplot(x='timeDuration',y='netAmount',data=Df)"
   ]
  },
  {
   "cell_type": "code",
   "execution_count": 88,
   "id": "1d79d1cd-e2a0-4d25-96f4-e244864da531",
   "metadata": {},
   "outputs": [],
   "source": [
    "Df3=Df[Df['netAmount']>=500]"
   ]
  },
  {
   "cell_type": "code",
   "execution_count": 89,
   "id": "cbaad26a-7091-46d6-8632-230fd5eada79",
   "metadata": {},
   "outputs": [
    {
     "data": {
      "text/plain": [
       "<Axes: xlabel='netAmount', ylabel='Count'>"
      ]
     },
     "execution_count": 89,
     "metadata": {},
     "output_type": "execute_result"
    },
    {
     "data": {
      "image/png": "[encoded data removed]",
      "text/plain": [
       "<Figure size 640x480 with 1 Axes>"
      ]
     },
     "metadata": {},
     "output_type": "display_data"
    }
   ],
   "source": [
    "sns.histplot(Df3['netAmount'])"
   ]
  },
  {
   "cell_type": "code",
   "execution_count": 90,
   "id": "b40317d0-4d65-4db8-a92b-f3355cc60803",
   "metadata": {},
   "outputs": [
    {
     "data": {
      "text/plain": [
       "array([   nan, 60000.,  6000.])"
      ]
     },
     "execution_count": 90,
     "metadata": {},
     "output_type": "execute_result"
    }
   ],
   "source": [
    "Df['callSeconds'].unique()"
   ]
  },
  {
   "cell_type": "code",
   "execution_count": 91,
   "id": "b43a9f57-971e-460a-aa63-bd4062af2f5f",
   "metadata": {},
   "outputs": [
    {
     "name": "stderr",
     "output_type": "stream",
     "text": [
      "/var/folders/sb/hxcxtgd548zcncz9qb48ngw80000gn/T/ipykernel_22387/2427969717.py:1: SettingWithCopyWarning: \n",
      "A value is trying to be set on a copy of a slice from a DataFrame.\n",
      "Try using .loc[row_indexer,col_indexer] = value instead\n",
      "\n",
      "See the caveats in the documentation: https://pandas.pydata.org/pandas-docs/stable/user_guide/indexing.html#returning-a-view-versus-a-copy\n",
      "  Df1['waitTime']=Df1['astrologerOnCallDuration']-Df1['userOnCallDuration']\n"
     ]
    }
   ],
   "source": [
    "Df1['waitTime']=Df1['astrologerOnCallDuration']-Df1['userOnCallDuration']"
   ]
  },
  {
   "cell_type": "code",
   "execution_count": 92,
   "id": "6fb9c692-23a0-46f4-8733-f49635ad9a59",
   "metadata": {},
   "outputs": [
    {
     "data": {
      "text/plain": [
       "Index(['_id', 'user', 'chatStatus', 'guru', 'guruName', 'gid', 'uid',\n",
       "       'consultationType', 'website', 'refundStatus', 'isWhiteListUser',\n",
       "       'chatSeconds', 'queue', 'freeCall', 'freeChat', 'createdAt',\n",
       "       'updatedAt', 'statementEntryId', 'chatStartTime', 'chatEndTime',\n",
       "       'timeDuration', 'callChannel', 'callIvrType', 'callStatus', 'CallSid',\n",
       "       'amount', 'astrologerCallStatus', 'astrologerOnCallDuration',\n",
       "       'astrologersEarnings', 'netAmount', 'region', 'userCallStatus',\n",
       "       'userOnCallDuration', 'RecordingUrl', 'feedback', 'hideHistory',\n",
       "       'cardPosition', 'Remedies', 'offer', 'refunds[0]', 'source',\n",
       "       'callSeconds', 'complementaryCallOrganiser', 'disconnectedBy',\n",
       "       'waitTime'],\n",
       "      dtype='object')"
      ]
     },
     "execution_count": 92,
     "metadata": {},
     "output_type": "execute_result"
    }
   ],
   "source": [
    "Df1.columns"
   ]
  },
  {
   "cell_type": "code",
   "execution_count": 93,
   "id": "ebc97e92-80bf-435a-acdd-8068903db692",
   "metadata": {},
   "outputs": [
    {
     "data": {
      "text/plain": [
       "10.002750209255051"
      ]
     },
     "execution_count": 93,
     "metadata": {},
     "output_type": "execute_result"
    }
   ],
   "source": [
    "Df1['waitTime'].mean()"
   ]
  },
  {
   "cell_type": "code",
   "execution_count": 94,
   "id": "4657c24e-2147-4be3-aad2-1e8dcf1ee774",
   "metadata": {},
   "outputs": [
    {
     "name": "stderr",
     "output_type": "stream",
     "text": [
      "/var/folders/sb/hxcxtgd548zcncz9qb48ngw80000gn/T/ipykernel_22387/3199084706.py:1: SettingWithCopyWarning: \n",
      "A value is trying to be set on a copy of a slice from a DataFrame\n",
      "\n",
      "See the caveats in the documentation: https://pandas.pydata.org/pandas-docs/stable/user_guide/indexing.html#returning-a-view-versus-a-copy\n",
      "  Df1.drop(columns=['waitTime'],inplace=True)\n"
     ]
    }
   ],
   "source": [
    "Df1.drop(columns=['waitTime'],inplace=True)"
   ]
  },
  {
   "cell_type": "code",
   "execution_count": 95,
   "id": "fd097165-68f1-4302-bddb-0ad0005342ee",
   "metadata": {},
   "outputs": [
    {
     "data": {
      "text/plain": [
       "array([nan, 'completed', 'busy', 'failed', 'no-answer', 'incomplete'],\n",
       "      dtype=object)"
      ]
     },
     "execution_count": 95,
     "metadata": {},
     "output_type": "execute_result"
    }
   ],
   "source": [
    "Df['callStatus'].unique()"
   ]
  },
  {
   "cell_type": "code",
   "execution_count": 96,
   "id": "dbf03a7c-2cc0-4bda-a870-8aad544c99c9",
   "metadata": {},
   "outputs": [
    {
     "data": {
      "text/plain": [
       "<Axes: ylabel='callStatus'>"
      ]
     },
     "execution_count": 96,
     "metadata": {},
     "output_type": "execute_result"
    },
    {
     "data": {
      "image/png": "[encoded data removed]",
      "text/plain": [
       "<Figure size 640x480 with 1 Axes>"
      ]
     },
     "metadata": {},
     "output_type": "display_data"
    }
   ],
   "source": [
    "sns.barplot(Df1['callStatus'])"
   ]
  },
  {
   "cell_type": "code",
   "execution_count": 97,
   "id": "f6c6acff-75ed-4b0c-9a91-92af66542c4f",
   "metadata": {},
   "outputs": [
    {
     "data": {
      "text/plain": [
       "Index(['_id', 'user', 'chatStatus', 'guru', 'guruName', 'gid', 'uid',\n",
       "       'consultationType', 'website', 'refundStatus', 'isWhiteListUser',\n",
       "       'chatSeconds', 'queue', 'freeCall', 'freeChat', 'createdAt',\n",
       "       'updatedAt', 'statementEntryId', 'chatStartTime', 'chatEndTime',\n",
       "       'timeDuration', 'callChannel', 'callIvrType', 'callStatus', 'CallSid',\n",
       "       'amount', 'astrologerCallStatus', 'astrologerOnCallDuration',\n",
       "       'astrologersEarnings', 'netAmount', 'region', 'userCallStatus',\n",
       "       'userOnCallDuration', 'RecordingUrl', 'feedback', 'hideHistory',\n",
       "       'cardPosition', 'Remedies', 'offer', 'refunds[0]', 'source',\n",
       "       'callSeconds', 'complementaryCallOrganiser', 'disconnectedBy'],\n",
       "      dtype='object')"
      ]
     },
     "execution_count": 97,
     "metadata": {},
     "output_type": "execute_result"
    }
   ],
   "source": [
    "Df.columns"
   ]
  },
  {
   "cell_type": "code",
   "execution_count": 98,
   "id": "6ebd79c5-55e7-47d8-95e2-e7e8c4c5737a",
   "metadata": {},
   "outputs": [
    {
     "data": {
      "text/plain": [
       "array([nan, '657a8a253a300f1f76ba8414', '657aea44251875bfc6dd0286',\n",
       "       '658c4460883c1bbae77fc1fd', '658eeb42883c1bbae7e99865',\n",
       "       '65946693883c1bbae7804275'], dtype=object)"
      ]
     },
     "execution_count": 98,
     "metadata": {},
     "output_type": "execute_result"
    }
   ],
   "source": [
    "Df['refunds[0]'].unique()"
   ]
  },
  {
   "cell_type": "code",
   "execution_count": 99,
   "id": "9c07d926-ae15-4bad-a46d-9c46f63d248a",
   "metadata": {},
   "outputs": [
    {
     "data": {
      "text/plain": [
       "<Axes: xlabel='refundStatus'>"
      ]
     },
     "execution_count": 99,
     "metadata": {},
     "output_type": "execute_result"
    },
    {
     "data": {
      "image/png": "[encoded data removed]",
      "text/plain": [
       "<Figure size 640x480 with 1 Axes>"
      ]
     },
     "metadata": {},
     "output_type": "display_data"
    }
   ],
   "source": [
    "sns.barplot(Df1['refundStatus'],orient='h')"
   ]
  },
  {
   "cell_type": "code",
   "execution_count": 100,
   "id": "214ab69b-7dab-46e0-a702-285ebd5ed8c2",
   "metadata": {},
   "outputs": [
    {
     "name": "stdout",
     "output_type": "stream",
     "text": [
      "Requirement already satisfied: jupyter_contrib_nbextensions in /opt/anaconda3/lib/python3.12/site-packages (0.7.0)\n",
      "Requirement already satisfied: ipython-genutils in /opt/anaconda3/lib/python3.12/site-packages (from jupyter_contrib_nbextensions) (0.2.0)\n",
      "Requirement already satisfied: jupyter-contrib-core>=0.3.3 in /opt/anaconda3/lib/python3.12/site-packages (from jupyter_contrib_nbextensions) (0.4.2)\n",
      "Requirement already satisfied: jupyter-core in /opt/anaconda3/lib/python3.12/site-packages (from jupyter_contrib_nbextensions) (5.7.2)\n",
      "Requirement already satisfied: jupyter-highlight-selected-word>=0.1.1 in /opt/anaconda3/lib/python3.12/site-packages (from jupyter_contrib_nbextensions) (0.2.0)\n",
      "Requirement already satisfied: jupyter-nbextensions-configurator>=0.4.0 in /opt/anaconda3/lib/python3.12/site-packages (from jupyter_contrib_nbextensions) (0.6.4)\n",
      "Requirement already satisfied: nbconvert>=6.0 in /opt/anaconda3/lib/python3.12/site-packages (from jupyter_contrib_nbextensions) (7.10.0)\n",
      "Requirement already satisfied: notebook>=6.0 in /opt/anaconda3/lib/python3.12/site-packages (from jupyter_contrib_nbextensions) (7.2.2)\n",
      "Requirement already satisfied: tornado in /opt/anaconda3/lib/python3.12/site-packages (from jupyter_contrib_nbextensions) (6.4.1)\n",
      "Requirement already satisfied: traitlets>=4.1 in /opt/anaconda3/lib/python3.12/site-packages (from jupyter_contrib_nbextensions) (5.14.3)\n",
      "Requirement already satisfied: lxml in /opt/anaconda3/lib/python3.12/site-packages (from jupyter_contrib_nbextensions) (5.2.1)\n",
      "Requirement already satisfied: setuptools in /opt/anaconda3/lib/python3.12/site-packages (from jupyter-contrib-core>=0.3.3->jupyter_contrib_nbextensions) (69.5.1)\n",
      "Requirement already satisfied: jupyter-server in /opt/anaconda3/lib/python3.12/site-packages (from jupyter-nbextensions-configurator>=0.4.0->jupyter_contrib_nbextensions) (2.14.1)\n",
      "Requirement already satisfied: pyyaml in /opt/anaconda3/lib/python3.12/site-packages (from jupyter-nbextensions-configurator>=0.4.0->jupyter_contrib_nbextensions) (6.0.1)\n",
      "Requirement already satisfied: beautifulsoup4 in /opt/anaconda3/lib/python3.12/site-packages (from nbconvert>=6.0->jupyter_contrib_nbextensions) (4.12.3)\n",
      "Requirement already satisfied: bleach!=5.0.0 in /opt/anaconda3/lib/python3.12/site-packages (from nbconvert>=6.0->jupyter_contrib_nbextensions) (4.1.0)\n",
      "Requirement already satisfied: defusedxml in /opt/anaconda3/lib/python3.12/site-packages (from nbconvert>=6.0->jupyter_contrib_nbextensions) (0.7.1)\n",
      "Requirement already satisfied: jinja2>=3.0 in /opt/anaconda3/lib/python3.12/site-packages (from nbconvert>=6.0->jupyter_contrib_nbextensions) (3.1.4)\n",
      "Requirement already satisfied: jupyterlab-pygments in /opt/anaconda3/lib/python3.12/site-packages (from nbconvert>=6.0->jupyter_contrib_nbextensions) (0.1.2)\n",
      "Requirement already satisfied: markupsafe>=2.0 in /opt/anaconda3/lib/python3.12/site-packages (from nbconvert>=6.0->jupyter_contrib_nbextensions) (2.1.3)\n",
      "Requirement already satisfied: mistune<4,>=2.0.3 in /opt/anaconda3/lib/python3.12/site-packages (from nbconvert>=6.0->jupyter_contrib_nbextensions) (2.0.4)\n",
      "Requirement already satisfied: nbclient>=0.5.0 in /opt/anaconda3/lib/python3.12/site-packages (from nbconvert>=6.0->jupyter_contrib_nbextensions) (0.8.0)\n",
      "Requirement already satisfied: nbformat>=5.7 in /opt/anaconda3/lib/python3.12/site-packages (from nbconvert>=6.0->jupyter_contrib_nbextensions) (5.9.2)\n",
      "Requirement already satisfied: packaging in /opt/anaconda3/lib/python3.12/site-packages (from nbconvert>=6.0->jupyter_contrib_nbextensions) (23.2)\n",
      "Requirement already satisfied: pandocfilters>=1.4.1 in /opt/anaconda3/lib/python3.12/site-packages (from nbconvert>=6.0->jupyter_contrib_nbextensions) (1.5.0)\n",
      "Requirement already satisfied: pygments>=2.4.1 in /opt/anaconda3/lib/python3.12/site-packages (from nbconvert>=6.0->jupyter_contrib_nbextensions) (2.15.1)\n",
      "Requirement already satisfied: tinycss2 in /opt/anaconda3/lib/python3.12/site-packages (from nbconvert>=6.0->jupyter_contrib_nbextensions) (1.2.1)\n",
      "Requirement already satisfied: platformdirs>=2.5 in /opt/anaconda3/lib/python3.12/site-packages (from jupyter-core->jupyter_contrib_nbextensions) (3.10.0)\n",
      "Requirement already satisfied: jupyterlab-server<3,>=2.27.1 in /opt/anaconda3/lib/python3.12/site-packages (from notebook>=6.0->jupyter_contrib_nbextensions) (2.27.3)\n",
      "Requirement already satisfied: jupyterlab<4.3,>=4.2.0 in /opt/anaconda3/lib/python3.12/site-packages (from notebook>=6.0->jupyter_contrib_nbextensions) (4.2.5)\n",
      "Requirement already satisfied: notebook-shim<0.3,>=0.2 in /opt/anaconda3/lib/python3.12/site-packages (from notebook>=6.0->jupyter_contrib_nbextensions) (0.2.3)\n",
      "Requirement already satisfied: six>=1.9.0 in /opt/anaconda3/lib/python3.12/site-packages (from bleach!=5.0.0->nbconvert>=6.0->jupyter_contrib_nbextensions) (1.16.0)\n",
      "Requirement already satisfied: webencodings in /opt/anaconda3/lib/python3.12/site-packages (from bleach!=5.0.0->nbconvert>=6.0->jupyter_contrib_nbextensions) (0.5.1)\n",
      "Requirement already satisfied: anyio>=3.1.0 in /opt/anaconda3/lib/python3.12/site-packages (from jupyter-server->jupyter-nbextensions-configurator>=0.4.0->jupyter_contrib_nbextensions) (4.2.0)\n",
      "Requirement already satisfied: argon2-cffi>=21.1 in /opt/anaconda3/lib/python3.12/site-packages (from jupyter-server->jupyter-nbextensions-configurator>=0.4.0->jupyter_contrib_nbextensions) (21.3.0)\n",
      "Requirement already satisfied: jupyter-client>=7.4.4 in /opt/anaconda3/lib/python3.12/site-packages (from jupyter-server->jupyter-nbextensions-configurator>=0.4.0->jupyter_contrib_nbextensions) (7.4.9)\n",
      "Requirement already satisfied: jupyter-events>=0.9.0 in /opt/anaconda3/lib/python3.12/site-packages (from jupyter-server->jupyter-nbextensions-configurator>=0.4.0->jupyter_contrib_nbextensions) (0.10.0)\n",
      "Requirement already satisfied: jupyter-server-terminals>=0.4.4 in /opt/anaconda3/lib/python3.12/site-packages (from jupyter-server->jupyter-nbextensions-configurator>=0.4.0->jupyter_contrib_nbextensions) (0.4.4)\n",
      "Requirement already satisfied: overrides>=5.0 in /opt/anaconda3/lib/python3.12/site-packages (from jupyter-server->jupyter-nbextensions-configurator>=0.4.0->jupyter_contrib_nbextensions) (7.4.0)\n",
      "Requirement already satisfied: prometheus-client>=0.9 in /opt/anaconda3/lib/python3.12/site-packages (from jupyter-server->jupyter-nbextensions-configurator>=0.4.0->jupyter_contrib_nbextensions) (0.14.1)\n",
      "Requirement already satisfied: pyzmq>=24 in /opt/anaconda3/lib/python3.12/site-packages (from jupyter-server->jupyter-nbextensions-configurator>=0.4.0->jupyter_contrib_nbextensions) (25.1.2)\n",
      "Requirement already satisfied: send2trash>=1.8.2 in /opt/anaconda3/lib/python3.12/site-packages (from jupyter-server->jupyter-nbextensions-configurator>=0.4.0->jupyter_contrib_nbextensions) (1.8.2)\n",
      "Requirement already satisfied: terminado>=0.8.3 in /opt/anaconda3/lib/python3.12/site-packages (from jupyter-server->jupyter-nbextensions-configurator>=0.4.0->jupyter_contrib_nbextensions) (0.17.1)\n",
      "Requirement already satisfied: websocket-client>=1.7 in /opt/anaconda3/lib/python3.12/site-packages (from jupyter-server->jupyter-nbextensions-configurator>=0.4.0->jupyter_contrib_nbextensions) (1.8.0)\n",
      "Requirement already satisfied: async-lru>=1.0.0 in /opt/anaconda3/lib/python3.12/site-packages (from jupyterlab<4.3,>=4.2.0->notebook>=6.0->jupyter_contrib_nbextensions) (2.0.4)\n",
      "Requirement already satisfied: httpx>=0.25.0 in /opt/anaconda3/lib/python3.12/site-packages (from jupyterlab<4.3,>=4.2.0->notebook>=6.0->jupyter_contrib_nbextensions) (0.27.0)\n",
      "Requirement already satisfied: ipykernel>=6.5.0 in /opt/anaconda3/lib/python3.12/site-packages (from jupyterlab<4.3,>=4.2.0->notebook>=6.0->jupyter_contrib_nbextensions) (6.28.0)\n",
      "Requirement already satisfied: jupyter-lsp>=2.0.0 in /opt/anaconda3/lib/python3.12/site-packages (from jupyterlab<4.3,>=4.2.0->notebook>=6.0->jupyter_contrib_nbextensions) (2.2.0)\n",
      "Requirement already satisfied: babel>=2.10 in /opt/anaconda3/lib/python3.12/site-packages (from jupyterlab-server<3,>=2.27.1->notebook>=6.0->jupyter_contrib_nbextensions) (2.11.0)\n",
      "Requirement already satisfied: json5>=0.9.0 in /opt/anaconda3/lib/python3.12/site-packages (from jupyterlab-server<3,>=2.27.1->notebook>=6.0->jupyter_contrib_nbextensions) (0.9.6)\n",
      "Requirement already satisfied: jsonschema>=4.18.0 in /opt/anaconda3/lib/python3.12/site-packages (from jupyterlab-server<3,>=2.27.1->notebook>=6.0->jupyter_contrib_nbextensions) (4.19.2)\n",
      "Requirement already satisfied: requests>=2.31 in /opt/anaconda3/lib/python3.12/site-packages (from jupyterlab-server<3,>=2.27.1->notebook>=6.0->jupyter_contrib_nbextensions) (2.32.2)\n",
      "Requirement already satisfied: fastjsonschema in /opt/anaconda3/lib/python3.12/site-packages (from nbformat>=5.7->nbconvert>=6.0->jupyter_contrib_nbextensions) (2.16.2)\n",
      "Requirement already satisfied: soupsieve>1.2 in /opt/anaconda3/lib/python3.12/site-packages (from beautifulsoup4->nbconvert>=6.0->jupyter_contrib_nbextensions) (2.5)\n",
      "Requirement already satisfied: idna>=2.8 in /opt/anaconda3/lib/python3.12/site-packages (from anyio>=3.1.0->jupyter-server->jupyter-nbextensions-configurator>=0.4.0->jupyter_contrib_nbextensions) (3.7)\n",
      "Requirement already satisfied: sniffio>=1.1 in /opt/anaconda3/lib/python3.12/site-packages (from anyio>=3.1.0->jupyter-server->jupyter-nbextensions-configurator>=0.4.0->jupyter_contrib_nbextensions) (1.3.0)\n",
      "Requirement already satisfied: argon2-cffi-bindings in /opt/anaconda3/lib/python3.12/site-packages (from argon2-cffi>=21.1->jupyter-server->jupyter-nbextensions-configurator>=0.4.0->jupyter_contrib_nbextensions) (21.2.0)\n",
      "Requirement already satisfied: pytz>=2015.7 in /opt/anaconda3/lib/python3.12/site-packages (from babel>=2.10->jupyterlab-server<3,>=2.27.1->notebook>=6.0->jupyter_contrib_nbextensions) (2024.1)\n",
      "Requirement already satisfied: certifi in /opt/anaconda3/lib/python3.12/site-packages (from httpx>=0.25.0->jupyterlab<4.3,>=4.2.0->notebook>=6.0->jupyter_contrib_nbextensions) (2024.8.30)\n",
      "Requirement already satisfied: httpcore==1.* in /opt/anaconda3/lib/python3.12/site-packages (from httpx>=0.25.0->jupyterlab<4.3,>=4.2.0->notebook>=6.0->jupyter_contrib_nbextensions) (1.0.2)\n",
      "Requirement already satisfied: h11<0.15,>=0.13 in /opt/anaconda3/lib/python3.12/site-packages (from httpcore==1.*->httpx>=0.25.0->jupyterlab<4.3,>=4.2.0->notebook>=6.0->jupyter_contrib_nbextensions) (0.14.0)\n",
      "Requirement already satisfied: appnope in /opt/anaconda3/lib/python3.12/site-packages (from ipykernel>=6.5.0->jupyterlab<4.3,>=4.2.0->notebook>=6.0->jupyter_contrib_nbextensions) (0.1.3)\n",
      "Requirement already satisfied: comm>=0.1.1 in /opt/anaconda3/lib/python3.12/site-packages (from ipykernel>=6.5.0->jupyterlab<4.3,>=4.2.0->notebook>=6.0->jupyter_contrib_nbextensions) (0.2.1)\n",
      "Requirement already satisfied: debugpy>=1.6.5 in /opt/anaconda3/lib/python3.12/site-packages (from ipykernel>=6.5.0->jupyterlab<4.3,>=4.2.0->notebook>=6.0->jupyter_contrib_nbextensions) (1.6.7)\n",
      "Requirement already satisfied: ipython>=7.23.1 in /opt/anaconda3/lib/python3.12/site-packages (from ipykernel>=6.5.0->jupyterlab<4.3,>=4.2.0->notebook>=6.0->jupyter_contrib_nbextensions) (8.25.0)\n",
      "Requirement already satisfied: matplotlib-inline>=0.1 in /opt/anaconda3/lib/python3.12/site-packages (from ipykernel>=6.5.0->jupyterlab<4.3,>=4.2.0->notebook>=6.0->jupyter_contrib_nbextensions) (0.1.6)\n",
      "Requirement already satisfied: nest-asyncio in /opt/anaconda3/lib/python3.12/site-packages (from ipykernel>=6.5.0->jupyterlab<4.3,>=4.2.0->notebook>=6.0->jupyter_contrib_nbextensions) (1.6.0)\n",
      "Requirement already satisfied: psutil in /opt/anaconda3/lib/python3.12/site-packages (from ipykernel>=6.5.0->jupyterlab<4.3,>=4.2.0->notebook>=6.0->jupyter_contrib_nbextensions) (5.9.0)\n",
      "Requirement already satisfied: attrs>=22.2.0 in /opt/anaconda3/lib/python3.12/site-packages (from jsonschema>=4.18.0->jupyterlab-server<3,>=2.27.1->notebook>=6.0->jupyter_contrib_nbextensions) (23.1.0)\n",
      "Requirement already satisfied: jsonschema-specifications>=2023.03.6 in /opt/anaconda3/lib/python3.12/site-packages (from jsonschema>=4.18.0->jupyterlab-server<3,>=2.27.1->notebook>=6.0->jupyter_contrib_nbextensions) (2023.7.1)\n",
      "Requirement already satisfied: referencing>=0.28.4 in /opt/anaconda3/lib/python3.12/site-packages (from jsonschema>=4.18.0->jupyterlab-server<3,>=2.27.1->notebook>=6.0->jupyter_contrib_nbextensions) (0.30.2)\n",
      "Requirement already satisfied: rpds-py>=0.7.1 in /opt/anaconda3/lib/python3.12/site-packages (from jsonschema>=4.18.0->jupyterlab-server<3,>=2.27.1->notebook>=6.0->jupyter_contrib_nbextensions) (0.10.6)\n",
      "Requirement already satisfied: entrypoints in /opt/anaconda3/lib/python3.12/site-packages (from jupyter-client>=7.4.4->jupyter-server->jupyter-nbextensions-configurator>=0.4.0->jupyter_contrib_nbextensions) (0.4)\n",
      "Requirement already satisfied: python-dateutil>=2.8.2 in /opt/anaconda3/lib/python3.12/site-packages (from jupyter-client>=7.4.4->jupyter-server->jupyter-nbextensions-configurator>=0.4.0->jupyter_contrib_nbextensions) (2.9.0.post0)\n",
      "Requirement already satisfied: python-json-logger>=2.0.4 in /opt/anaconda3/lib/python3.12/site-packages (from jupyter-events>=0.9.0->jupyter-server->jupyter-nbextensions-configurator>=0.4.0->jupyter_contrib_nbextensions) (2.0.7)\n",
      "Requirement already satisfied: rfc3339-validator in /opt/anaconda3/lib/python3.12/site-packages (from jupyter-events>=0.9.0->jupyter-server->jupyter-nbextensions-configurator>=0.4.0->jupyter_contrib_nbextensions) (0.1.4)\n",
      "Requirement already satisfied: rfc3986-validator>=0.1.1 in /opt/anaconda3/lib/python3.12/site-packages (from jupyter-events>=0.9.0->jupyter-server->jupyter-nbextensions-configurator>=0.4.0->jupyter_contrib_nbextensions) (0.1.1)\n",
      "Requirement already satisfied: charset-normalizer<4,>=2 in /opt/anaconda3/lib/python3.12/site-packages (from requests>=2.31->jupyterlab-server<3,>=2.27.1->notebook>=6.0->jupyter_contrib_nbextensions) (2.0.4)\n",
      "Requirement already satisfied: urllib3<3,>=1.21.1 in /opt/anaconda3/lib/python3.12/site-packages (from requests>=2.31->jupyterlab-server<3,>=2.27.1->notebook>=6.0->jupyter_contrib_nbextensions) (1.26.20)\n",
      "Requirement already satisfied: ptyprocess in /opt/anaconda3/lib/python3.12/site-packages (from terminado>=0.8.3->jupyter-server->jupyter-nbextensions-configurator>=0.4.0->jupyter_contrib_nbextensions) (0.7.0)\n",
      "Requirement already satisfied: decorator in /opt/anaconda3/lib/python3.12/site-packages (from ipython>=7.23.1->ipykernel>=6.5.0->jupyterlab<4.3,>=4.2.0->notebook>=6.0->jupyter_contrib_nbextensions) (5.1.1)\n",
      "Requirement already satisfied: jedi>=0.16 in /opt/anaconda3/lib/python3.12/site-packages (from ipython>=7.23.1->ipykernel>=6.5.0->jupyterlab<4.3,>=4.2.0->notebook>=6.0->jupyter_contrib_nbextensions) (0.18.1)\n",
      "Requirement already satisfied: prompt-toolkit<3.1.0,>=3.0.41 in /opt/anaconda3/lib/python3.12/site-packages (from ipython>=7.23.1->ipykernel>=6.5.0->jupyterlab<4.3,>=4.2.0->notebook>=6.0->jupyter_contrib_nbextensions) (3.0.43)\n",
      "Requirement already satisfied: stack-data in /opt/anaconda3/lib/python3.12/site-packages (from ipython>=7.23.1->ipykernel>=6.5.0->jupyterlab<4.3,>=4.2.0->notebook>=6.0->jupyter_contrib_nbextensions) (0.2.0)\n",
      "Requirement already satisfied: pexpect>4.3 in /opt/anaconda3/lib/python3.12/site-packages (from ipython>=7.23.1->ipykernel>=6.5.0->jupyterlab<4.3,>=4.2.0->notebook>=6.0->jupyter_contrib_nbextensions) (4.8.0)\n",
      "Requirement already satisfied: fqdn in /opt/anaconda3/lib/python3.12/site-packages (from jsonschema[format-nongpl]>=4.18.0->jupyter-events>=0.9.0->jupyter-server->jupyter-nbextensions-configurator>=0.4.0->jupyter_contrib_nbextensions) (1.5.1)\n",
      "Requirement already satisfied: isoduration in /opt/anaconda3/lib/python3.12/site-packages (from jsonschema[format-nongpl]>=4.18.0->jupyter-events>=0.9.0->jupyter-server->jupyter-nbextensions-configurator>=0.4.0->jupyter_contrib_nbextensions) (20.11.0)\n",
      "Requirement already satisfied: jsonpointer>1.13 in /opt/anaconda3/lib/python3.12/site-packages (from jsonschema[format-nongpl]>=4.18.0->jupyter-events>=0.9.0->jupyter-server->jupyter-nbextensions-configurator>=0.4.0->jupyter_contrib_nbextensions) (2.1)\n",
      "Requirement already satisfied: uri-template in /opt/anaconda3/lib/python3.12/site-packages (from jsonschema[format-nongpl]>=4.18.0->jupyter-events>=0.9.0->jupyter-server->jupyter-nbextensions-configurator>=0.4.0->jupyter_contrib_nbextensions) (1.3.0)\n",
      "Requirement already satisfied: webcolors>=1.11 in /opt/anaconda3/lib/python3.12/site-packages (from jsonschema[format-nongpl]>=4.18.0->jupyter-events>=0.9.0->jupyter-server->jupyter-nbextensions-configurator>=0.4.0->jupyter_contrib_nbextensions) (24.11.1)\n",
      "Requirement already satisfied: cffi>=1.0.1 in /opt/anaconda3/lib/python3.12/site-packages (from argon2-cffi-bindings->argon2-cffi>=21.1->jupyter-server->jupyter-nbextensions-configurator>=0.4.0->jupyter_contrib_nbextensions) (1.16.0)\n",
      "Requirement already satisfied: pycparser in /opt/anaconda3/lib/python3.12/site-packages (from cffi>=1.0.1->argon2-cffi-bindings->argon2-cffi>=21.1->jupyter-server->jupyter-nbextensions-configurator>=0.4.0->jupyter_contrib_nbextensions) (2.21)\n",
      "Requirement already satisfied: parso<0.9.0,>=0.8.0 in /opt/anaconda3/lib/python3.12/site-packages (from jedi>=0.16->ipython>=7.23.1->ipykernel>=6.5.0->jupyterlab<4.3,>=4.2.0->notebook>=6.0->jupyter_contrib_nbextensions) (0.8.3)\n",
      "Requirement already satisfied: wcwidth in /opt/anaconda3/lib/python3.12/site-packages (from prompt-toolkit<3.1.0,>=3.0.41->ipython>=7.23.1->ipykernel>=6.5.0->jupyterlab<4.3,>=4.2.0->notebook>=6.0->jupyter_contrib_nbextensions) (0.2.5)\n",
      "Requirement already satisfied: arrow>=0.15.0 in /opt/anaconda3/lib/python3.12/site-packages (from isoduration->jsonschema[format-nongpl]>=4.18.0->jupyter-events>=0.9.0->jupyter-server->jupyter-nbextensions-configurator>=0.4.0->jupyter_contrib_nbextensions) (1.2.3)\n",
      "Requirement already satisfied: executing in /opt/anaconda3/lib/python3.12/site-packages (from stack-data->ipython>=7.23.1->ipykernel>=6.5.0->jupyterlab<4.3,>=4.2.0->notebook>=6.0->jupyter_contrib_nbextensions) (0.8.3)\n",
      "Requirement already satisfied: asttokens in /opt/anaconda3/lib/python3.12/site-packages (from stack-data->ipython>=7.23.1->ipykernel>=6.5.0->jupyterlab<4.3,>=4.2.0->notebook>=6.0->jupyter_contrib_nbextensions) (2.0.5)\n",
      "Requirement already satisfied: pure-eval in /opt/anaconda3/lib/python3.12/site-packages (from stack-data->ipython>=7.23.1->ipykernel>=6.5.0->jupyterlab<4.3,>=4.2.0->notebook>=6.0->jupyter_contrib_nbextensions) (0.2.2)\n",
      "Traceback (most recent call last):\n",
      "  File \"/opt/anaconda3/lib/python3.12/site-packages/jupyter_contrib_core/notebook_compat/nbextensions.py\", line 6, in <module>\n",
      "    from notebook.extensions import BaseExtensionApp\n",
      "ModuleNotFoundError: No module named 'notebook.extensions'\n",
      "\n",
      "During handling of the above exception, another exception occurred:\n",
      "\n",
      "Traceback (most recent call last):\n",
      "  File \"/opt/anaconda3/lib/python3.12/site-packages/jupyter_contrib_core/notebook_compat/nbextensions.py\", line 10, in <module>\n",
      "    from notebook.nbextensions import BaseNBExtensionApp\n",
      "ModuleNotFoundError: No module named 'notebook.nbextensions'\n",
      "\n",
      "During handling of the above exception, another exception occurred:\n",
      "\n",
      "Traceback (most recent call last):\n",
      "  File \"/opt/anaconda3/bin/jupyter-contrib\", line 8, in <module>\n",
      "    sys.exit(main())\n",
      "             ^^^^^^\n",
      "  File \"/opt/anaconda3/lib/python3.12/site-packages/jupyter_core/application.py\", line 283, in launch_instance\n",
      "    super().launch_instance(argv=argv, **kwargs)\n",
      "  File \"/opt/anaconda3/lib/python3.12/site-packages/traitlets/config/application.py\", line 1073, in launch_instance\n",
      "    app = cls.instance(**kwargs)\n",
      "          ^^^^^^^^^^^^^^^^^^^^^^\n",
      "  File \"/opt/anaconda3/lib/python3.12/site-packages/traitlets/config/configurable.py\", line 583, in instance\n",
      "    inst = cls(*args, **kwargs)\n",
      "           ^^^^^^^^^^^^^^^^^^^^\n",
      "  File \"/opt/anaconda3/lib/python3.12/site-packages/jupyter_contrib_core/application.py\", line 27, in __init__\n",
      "    self._refresh_subcommands()\n",
      "  File \"/opt/anaconda3/lib/python3.12/site-packages/jupyter_contrib_core/application.py\", line 43, in _refresh_subcommands\n",
      "    get_subcommands_dict = entrypoint.load()\n",
      "                           ^^^^^^^^^^^^^^^^^\n",
      "  File \"/opt/anaconda3/lib/python3.12/site-packages/pkg_resources/__init__.py\", line 2482, in load\n",
      "    return self.resolve()\n",
      "           ^^^^^^^^^^^^^^\n",
      "  File \"/opt/anaconda3/lib/python3.12/site-packages/pkg_resources/__init__.py\", line 2488, in resolve\n",
      "    module = __import__(self.module_name, fromlist=['__name__'], level=0)\n",
      "             ^^^^^^^^^^^^^^^^^^^^^^^^^^^^^^^^^^^^^^^^^^^^^^^^^^^^^^^^^^^^\n",
      "  File \"/opt/anaconda3/lib/python3.12/site-packages/jupyter_contrib_nbextensions/application.py\", line 7, in <module>\n",
      "    from jupyter_contrib_core.notebook_compat.nbextensions import ArgumentConflict\n",
      "  File \"/opt/anaconda3/lib/python3.12/site-packages/jupyter_contrib_core/notebook_compat/nbextensions.py\", line 12, in <module>\n",
      "    from ._compat.nbextensions import BaseNBExtensionApp\n",
      "  File \"/opt/anaconda3/lib/python3.12/site-packages/jupyter_contrib_core/notebook_compat/_compat/nbextensions.py\", line 35, in <module>\n",
      "    from notebook.nbextensions import (\n",
      "ModuleNotFoundError: No module named 'notebook.nbextensions'\n",
      "Note: you may need to restart the kernel to use updated packages.\n"
     ]
    }
   ],
   "source": [
    "pip install jupyter_contrib_nbextensions && jupyter contrib nbextension install --user"
   ]
  },
  {
   "cell_type": "code",
   "execution_count": 101,
   "id": "ba36e47b-9b08-4f6e-9642-c419f98c081f",
   "metadata": {},
   "outputs": [
    {
     "data": {
      "text/plain": [
       "_id                               0\n",
       "user                              0\n",
       "chatStatus                        0\n",
       "guru                              0\n",
       "guruName                          0\n",
       "gid                               0\n",
       "uid                               0\n",
       "consultationType                  0\n",
       "website                           0\n",
       "refundStatus                      0\n",
       "isWhiteListUser                   0\n",
       "chatSeconds                       0\n",
       "queue                             0\n",
       "freeCall                          0\n",
       "freeChat                          0\n",
       "createdAt                         0\n",
       "updatedAt                         0\n",
       "__v                               0\n",
       "statementEntryId                151\n",
       "chatStartTime                     0\n",
       "chatEndTime                   14996\n",
       "timeDuration                   6629\n",
       "callChannel                   19519\n",
       "callIvrType                   19665\n",
       "callStatus                    19486\n",
       "CallSid                       19662\n",
       "amount                        19011\n",
       "astrologerCallStatus          11769\n",
       "astrologerOnCallDuration      19662\n",
       "astrologersEarnings           19011\n",
       "netAmount                     19011\n",
       "region                        19008\n",
       "userCallStatus                18682\n",
       "userOnCallDuration            19662\n",
       "RecordingUrl                  23702\n",
       "feedback                      25411\n",
       "hideHistory                    8689\n",
       "cardPosition                  27317\n",
       "Remedies                      27925\n",
       "offer                          9249\n",
       "refunds[0]                    28022\n",
       "source                        11736\n",
       "callSeconds                   28025\n",
       "complementaryCallOrganiser    28025\n",
       "disconnectedBy                28018\n",
       "dtype: int64"
      ]
     },
     "execution_count": 101,
     "metadata": {},
     "output_type": "execute_result"
    }
   ],
   "source": [
    "df.isnull().sum()"
   ]
  },
  {
   "cell_type": "code",
   "execution_count": null,
   "id": "edae6a2b-3480-4d00-a274-7e65757e85da",
   "metadata": {},
   "outputs": [],
   "source": []
  }
 ],
 "metadata": {
  "kernelspec": {
   "display_name": "Python 3 (ipykernel)",
   "language": "python",
   "name": "python3"
  },
  "language_info": {
   "codemirror_mode": {
    "name": "ipython",
    "version": 3
   },
   "file_extension": ".py",
   "mimetype": "text/x-python",
   "name": "python",
   "nbconvert_exporter": "python",
   "pygments_lexer": "ipython3",
   "version": "3.12.3"
  }
 },
 "nbformat": 4,
 "nbformat_minor": 5
}
